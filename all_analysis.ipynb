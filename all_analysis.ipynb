{
 "cells": [
  {
   "cell_type": "code",
   "execution_count": 24,
   "id": "5d4cebd4",
   "metadata": {},
   "outputs": [],
   "source": [
    "import uproot\n",
    "import pandas as pd\n",
    "import numpy as np\n",
    "import awkward as ak\n",
    "import matplotlib.pyplot as plt\n",
    "import fastjet\n",
    "import pdg\n",
    "\n",
    "pdg_api = pdg.connect()"
   ]
  },
  {
   "cell_type": "code",
   "execution_count": 10,
   "id": "a9d40bbc",
   "metadata": {},
   "outputs": [
    {
     "name": "stdout",
     "output_type": "stream",
     "text": [
      "✅ Flat tree detected — using pandas.\n",
      "⚠️ Nested tree detected — flattening.\n"
     ]
    }
   ],
   "source": [
    "def load_events(filepath):\n",
    "    with uproot.open(filepath) as f:\n",
    "        # Tree handling\n",
    "        tree_key = next((k for k in f.keys() if \"events\" in k.lower()), None)\n",
    "        if not tree_key:\n",
    "            raise ValueError(\"No tree found matching 'events' in file.\")\n",
    "\n",
    "        #Branch handling\n",
    "        tree = f[tree_key]\n",
    "        branches = tree.keys()\n",
    "        \n",
    "        def match(branches, target):\n",
    "            return next((b for b in branches if b.lower() == target.lower()), None)\n",
    "\n",
    "        keys_needed = [\"id\", \"px\", \"py\", \"pz\", \"e\"]\n",
    "        matched_keys = {k: match(branches, k) for k in keys_needed}\n",
    "\n",
    "        if any(v is None for v in matched_keys.values()):\n",
    "            missing = [k for k, v in matched_keys.items() if v is None]\n",
    "            raise KeyError(f\"Missing branches: {missing}\")\n",
    "\n",
    "        # Sample the data to check for nested lists\n",
    "        sample = tree.arrays(list(matched_keys.values()), entry_stop=5, library=\"ak\")\n",
    "        is_nested = any(isinstance(sample[k][0], (list, ak.Array)) for k in matched_keys)\n",
    "\n",
    "        if is_nested:\n",
    "            print(\"⚠️ Nested tree detected — flattening.\")\n",
    "            full = tree.arrays(list(matched_keys.values()), library=\"ak\")\n",
    "            flat = ak.flatten(ak.zip({k: full[matched_keys[k]] for k in matched_keys}), axis=1)\n",
    "            return ak.to_dataframe(flat).reset_index(drop=True)\n",
    "        else:\n",
    "            print(\"✅ Flat tree detected — using pandas.\")\n",
    "            return tree.arrays(list(matched_keys.values()), library=\"pd\")\n",
    "\n",
    "\n",
    "dps_data = load_events(\"dps/ttbb_v2.root\")      \n",
    "sps_data = load_events(\"sps/sps_ttbb_showered.root\")"
   ]
  },
  {
   "cell_type": "code",
   "execution_count": 34,
   "id": "34cb5e66",
   "metadata": {},
   "outputs": [
    {
     "name": "stdout",
     "output_type": "stream",
     "text": [
      "id\n",
      "22 (gamma)         2784143\n",
      "211 (pi+)          1147728\n",
      "-211 (pi-)         1140066\n",
      "321 (K+)            140255\n",
      "-321 (K-)           138737\n",
      "130 (K(L)0)         136184\n",
      "2212 (p)             87995\n",
      "2112 (n)             84833\n",
      "-2212 (pbar)         77069\n",
      "-2112 (nbar)         75775\n",
      "-11 (e+)             23957\n",
      "11 (e-)              23938\n",
      "13 (mu-)              7140\n",
      "-14 (nubar_mu)        7009\n",
      "-13 (mu+)             6999\n",
      "12 (nu_e)             6910\n",
      "-12 (nubar_e)         6891\n",
      "14 (nu_mu)            6868\n",
      "16 (nu_tau)           4106\n",
      "-16 (nubar_tau)       4106\n",
      "Name: count, dtype: int64\n"
     ]
    }
   ],
   "source": [
    "counts_sps = df_sps[\"id\"].value_counts()\n",
    "counts_dps = df_dps[\"id\"].value_counts()\n",
    "\n",
    "# Map using API\n",
    "def label_with_name(pdgid):\n",
    "    try:\n",
    "        name = pdg_api.get_particle_by_mcid(pdgid).name\n",
    "        return f\"{pdgid} ({name})\"\n",
    "    except Exception:\n",
    "        return f\"{pdgid} (Unknown)\"\n",
    "\n",
    "counts_sps = counts_sps.rename(index=label_with_name)\n",
    "counts_dps = counts_dps.rename(index=label_with_name)\n",
    "\n",
    "print(counts_sps)\n"
   ]
  },
  {
   "cell_type": "code",
   "execution_count": 35,
   "id": "3284afb7",
   "metadata": {},
   "outputs": [
    {
     "name": "stdout",
     "output_type": "stream",
     "text": [
      "id\n",
      "22 (gamma)         2488865\n",
      "211 (pi+)          1025094\n",
      "-211 (pi-)         1018809\n",
      "321 (K+)            125580\n",
      "-321 (K-)           123578\n",
      "130 (K(L)0)         122280\n",
      "2212 (p)             78950\n",
      "2112 (n)             75750\n",
      "-2112 (nbar)         67363\n",
      "-2212 (pbar)         67337\n",
      "11 (e-)              21880\n",
      "-11 (e+)             21879\n",
      "-12 (nubar_e)         6692\n",
      "12 (nu_e)             6691\n",
      "-13 (mu+)             6673\n",
      "13 (mu-)              6572\n",
      "14 (nu_mu)            6546\n",
      "-14 (nubar_mu)        6445\n",
      "16 (nu_tau)           3886\n",
      "-16 (nubar_tau)       3886\n",
      "Name: count, dtype: int64\n"
     ]
    }
   ],
   "source": [
    "print(counts_dps)"
   ]
  },
  {
   "cell_type": "code",
   "execution_count": 13,
   "id": "f3a4cb61",
   "metadata": {},
   "outputs": [
    {
     "name": "stderr",
     "output_type": "stream",
     "text": [
      "/Users/hunterrr/playground/UZH/.venv/lib/python3.13/site-packages/pandas/core/arraylike.py:399: RuntimeWarning: divide by zero encountered in log\n",
      "  result = getattr(ufunc, method)(*inputs, **kwargs)\n",
      "/Users/hunterrr/playground/UZH/.venv/lib/python3.13/site-packages/pandas/core/arraylike.py:399: RuntimeWarning: divide by zero encountered in log\n",
      "  result = getattr(ufunc, method)(*inputs, **kwargs)\n"
     ]
    },
    {
     "name": "stdout",
     "output_type": "stream",
     "text": [
      "\n",
      "[DPS]\n",
      "Total particles: 5284756\n",
      "Charged leptons: 57004\n",
      "Neutrinos: 34146\n",
      "b-hadrons: 0\n",
      "bb-hadrons: 0\n",
      "\n",
      "[SPS]\n",
      "Total particles: 5910709\n",
      "Charged leptons: 62034\n",
      "Neutrinos: 35890\n",
      "b-hadrons: 0\n",
      "bb-hadrons: 0\n"
     ]
    }
   ],
   "source": [
    "df_dps = dps_data.copy()\n",
    "df_sps = sps_data.copy()\n",
    "# --- Step 2: Compute derived quantities\n",
    "def compute_pt_eta_phi(df):\n",
    "    df[\"pt\"] = np.sqrt(df[\"px\"]**2 + df[\"py\"]**2)\n",
    "    df[\"eta\"] = 0.5 * np.log((df[\"e\"] + df[\"pz\"]) / (df[\"e\"] - df[\"pz\"] + 1e-6))\n",
    "    df[\"phi\"] = np.arctan2(df[\"py\"], df[\"px\"])\n",
    "    return df\n",
    "\n",
    "df_dps = compute_pt_eta_phi(df_dps)\n",
    "df_sps = compute_pt_eta_phi(df_sps)\n",
    "\n",
    "# Particle-level selection\n",
    "def is_b_hadron(pdgid):\n",
    "    return abs(pdgid)%1000//100 == 5 or abs(pdgid)%10000//1000 == 5\n",
    "\n",
    "def is_bb_hadron(pdgid):\n",
    "    return (abs(pdgid)%1000//100 == 5 and abs(pdgid)%100//10 ==5) or (abs(pdgid)%10000//1000 == 5 and abs(pdgid)%1000//100 == 5)\n",
    "\n",
    "def count_particles(df, label):\n",
    "    print(f\"\\n[{label}]\")\n",
    "    print(\"Total particles:\", len(df))\n",
    "    print(\"Charged leptons:\", len(df[np.abs(df[\"id\"]).isin([11, 13])]))\n",
    "    print(\"Neutrinos:\", len(df[np.abs(df[\"id\"]).isin([12, 14, 16])]))\n",
    "    print(\"b-hadrons:\", len(df[df[\"id\"].apply(is_b_hadron)]))\n",
    "    print(\"bb-hadrons:\", len(df[df[\"id\"].apply(is_bb_hadron)]))\n",
    "\n",
    "count_particles(df_dps, \"DPS\")\n",
    "count_particles(df_sps, \"SPS\")\n"
   ]
  }
 ],
 "metadata": {
  "kernelspec": {
   "display_name": ".venv",
   "language": "python",
   "name": "python3"
  },
  "language_info": {
   "codemirror_mode": {
    "name": "ipython",
    "version": 3
   },
   "file_extension": ".py",
   "mimetype": "text/x-python",
   "name": "python",
   "nbconvert_exporter": "python",
   "pygments_lexer": "ipython3",
   "version": "3.13.3"
  }
 },
 "nbformat": 4,
 "nbformat_minor": 5
}
